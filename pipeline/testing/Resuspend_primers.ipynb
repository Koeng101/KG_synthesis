{
 "cells": [
  {
   "cell_type": "code",
   "execution_count": 7,
   "metadata": {},
   "outputs": [],
   "source": [
    "from opentrons import robot, instruments, containers"
   ]
  },
  {
   "cell_type": "code",
   "execution_count": 10,
   "metadata": {},
   "outputs": [],
   "source": [
    "locations = {\n",
    "        \"tiprack-200\" : \"A3\",\n",
    "        \"tiprack-10_2\" : \"E3\",\n",
    "        \"tiprack-10_3\" : \"E2\",\n",
    "        \"tiprack-10_1\" : \"E1\",\n",
    "        \"trash\" : \"D1\",\n",
    "        \"PCR-strip-tall\" : \"C3\",\n",
    "        \"Transformation\" : \"C2\",\n",
    "        \"Tube_rack\" : \"B1\"\n",
    "     }\n",
    "# Give user view of locations\n",
    "def robo_locations(locations):\n",
    "    # Make the dataframe to represent the OT-1 deck\n",
    "    deck = ['A1','B2','C3','D2','E1']\n",
    "    slots = pd.Series(deck)\n",
    "    columns = sorted(slots.str[0].unique())\n",
    "    rows = sorted(slots.str[1].unique(), reverse=True)\n",
    "    layout_table = pd.DataFrame(index=rows, columns=columns)\n",
    "    layout_table.fillna(\"---\", inplace=True)\n",
    "\n",
    "    # Fill in the data frame with the locations\n",
    "    for obj in locations:\n",
    "            layout_table.loc[locations[obj][1], locations[obj][0]] = obj\n",
    "\n",
    "    # Displays the required plate map and waits to proceed\n",
    "    print(\"\\n Please arrange the items in the following configuration: \\n\")\n",
    "    print(layout_table,\"\\n\")\n",
    "    input(\"Press enter to continue\")\n",
    "\n",
    "# Setup tip racks\n",
    "p200_tipracks = [\n",
    "    containers.load('tiprack-200ul', locations['tiprack-200']),]\n",
    "\n",
    "p10_tipracks = [\n",
    "    containers.load('tiprack-10ul', locations['tiprack-10_2']),\n",
    "    containers.load('tiprack-10ul', locations['tiprack-10_1']),\n",
    "    containers.load('tiprack-10ul', locations['tiprack-10_3'])\n",
    "]\n",
    "\n",
    "transformation_plate = containers.load('96-PCR-tall', locations['Transformation'])\n",
    "trash = containers.load('point', locations['trash'], 'holywastedplasticbatman')\n",
    "centrifuge_tube = containers.load('tube-rack-2ml',locations['Tube_rack'])\n",
    "master = containers.load('PCR-strip-tall', locations['PCR-strip-tall'])\n",
    "\n",
    "\n"
   ]
  },
  {
   "cell_type": "code",
   "execution_count": 13,
   "metadata": {},
   "outputs": [],
   "source": [
    "p10 = instruments.Pipette(\n",
    "    axis='a',\n",
    "    max_volume=10,\n",
    "    min_volume=0.5,\n",
    "    tip_racks=p10_tipracks,\n",
    "    trash_container=trash,\n",
    "    channels=8,\n",
    "    name='p10-8'\n",
    ")\n",
    "\n",
    "p10s = instruments.Pipette(\n",
    "    axis='a',\n",
    "    max_volume=10,\n",
    "    min_volume=0.5,\n",
    "    tip_racks=p10_tipracks,\n",
    "    trash_container=trash,\n",
    "    channels=1,\n",
    "    name='p10-8s'\n",
    ")\n",
    "\n",
    "p200 = instruments.Pipette(\n",
    "    axis='b',\n",
    "    max_volume=200,\n",
    "    min_volume=20,\n",
    "    tip_racks=p200_tipracks,\n",
    "    trash_container=trash,\n",
    "    channels=1,\n",
    "    name='p200-1'\n",
    ")\n"
   ]
  },
  {
   "cell_type": "code",
   "execution_count": null,
   "metadata": {},
   "outputs": [],
   "source": []
  }
 ],
 "metadata": {
  "kernelspec": {
   "display_name": "Python 3",
   "language": "python",
   "name": "python3"
  },
  "language_info": {
   "codemirror_mode": {
    "name": "ipython",
    "version": 3
   },
   "file_extension": ".py",
   "mimetype": "text/x-python",
   "name": "python",
   "nbconvert_exporter": "python",
   "pygments_lexer": "ipython3",
   "version": "3.6.4"
  }
 },
 "nbformat": 4,
 "nbformat_minor": 2
}
