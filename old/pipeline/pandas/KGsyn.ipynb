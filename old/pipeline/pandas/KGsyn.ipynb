{
 "cells": [
  {
   "cell_type": "code",
   "execution_count": 36,
   "metadata": {},
   "outputs": [],
   "source": [
    "from collections import Counter\n"
   ]
  },
  {
   "cell_type": "code",
   "execution_count": 44,
   "metadata": {},
   "outputs": [],
   "source": [
    "def sequence_to_block(seq):\n",
    "    seq = \"GCCN\" + seq + \"NCAG\"\n",
    "    def next_base(seq, block_list, overlap_list):\n",
    "        if len(seq[0:5]) < 5:\n",
    "            return block_list, overlap_list\n",
    "        block_list.append(seq[0:5])\n",
    "        overlap_list.append(seq[2:5])\n",
    "        return next_base(seq[2:], block_list, overlap_list)\n",
    "    blocks,overlaps = next_base(seq, [], [])\n",
    "    overlaps += ['CAG']\n",
    "    return overlaps"
   ]
  },
  {
   "cell_type": "code",
   "execution_count": 45,
   "metadata": {},
   "outputs": [
    {
     "data": {
      "text/plain": [
       "['CNA', 'AGA', 'ATG', 'GGC', 'CTC', 'CTT', 'TNC', 'CAG', 'CAG']"
      ]
     },
     "execution_count": 45,
     "metadata": {},
     "output_type": "execute_result"
    }
   ],
   "source": [
    "string = \"AGATGGCTCTT\"\n",
    "\n",
    "sequence_to_block(string)"
   ]
  },
  {
   "cell_type": "code",
   "execution_count": 46,
   "metadata": {},
   "outputs": [
    {
     "name": "stdout",
     "output_type": "stream",
     "text": [
      "(1, 1)\n",
      "(2, 0)\n",
      "(0, 2)\n"
     ]
    }
   ],
   "source": [
    "part_types = {\n",
    "    \"typeA\": (1,1),\n",
    "    \"typeB\": (2,0),\n",
    "    \"typeC\": (0,2)\n",
    "}\n",
    "for part in part_types.items():\n",
    "    print(part[1])"
   ]
  },
  {
   "cell_type": "code",
   "execution_count": 50,
   "metadata": {},
   "outputs": [
    {
     "data": {
      "text/plain": [
       "['CAG']"
      ]
     },
     "execution_count": 50,
     "metadata": {},
     "output_type": "execute_result"
    }
   ],
   "source": [
    "def find_repeat_overlap(overlap_list):\n",
    "    repeats = []\n",
    "    for overlap,repeat in dict(Counter(overlap_list)).items():\n",
    "        if repeat > 1:\n",
    "            repeats.append(overlap)\n",
    "    return repeats\n",
    "find_repeat_overlap(sequence_to_block(string))"
   ]
  },
  {
   "cell_type": "code",
   "execution_count": null,
   "metadata": {},
   "outputs": [],
   "source": []
  }
 ],
 "metadata": {
  "kernelspec": {
   "display_name": "Python 3",
   "language": "python",
   "name": "python3"
  },
  "language_info": {
   "codemirror_mode": {
    "name": "ipython",
    "version": 3
   },
   "file_extension": ".py",
   "mimetype": "text/x-python",
   "name": "python",
   "nbconvert_exporter": "python",
   "pygments_lexer": "ipython3",
   "version": "3.6.4"
  }
 },
 "nbformat": 4,
 "nbformat_minor": 2
}
