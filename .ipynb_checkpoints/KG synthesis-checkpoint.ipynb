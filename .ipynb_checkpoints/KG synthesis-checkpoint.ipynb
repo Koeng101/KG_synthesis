{
 "cells": [
  {
   "cell_type": "code",
   "execution_count": 14,
   "metadata": {},
   "outputs": [],
   "source": [
    "sapi = 'gctcttc'.upper()\n",
    "def rc(seq):\n",
    "    '''Creates reverse complement of a DNA string.'''\n",
    "    seq = seq.upper()\n",
    "    return seq.translate(str.maketrans(\"ATGCN\",\"TACGN\"))[::-1]\n",
    "\n",
    "neg_rha = 'caccacaattcagcaaattgtgaacatcatcacgttcatctttccctggttgccaatggcccattttcctgtcagtaacgagaaggtcgcgaattcaggcgctttttagactggtcgtaatgaaattcagcaggatcaccatatggcgtattttctggattttgacgagcgggcactaaaggaatggcgaaagctgggctcgacggtacgtgaacagttgaaaaagaagctggttgaagtacttgagtcaccccggattgaagcaaacaagctccgtggtatgcctgattgttacaagattaagctccggtcttcaggctatcgccttgtataccaggttatagacgagaaagttgtcgttttcgtgatttctgttgggaaaagagaacgctcggaagtatatagcgaggcggtcaaacgcattctctgaggatccgcgaattctcatgtttgacagcttatcactgatcagtgaattaatggcgatgacgcatcctcacgataatatccgggtaggcgcaatcactttcgtctctactccgttacaaagcgaggctgggtatttcccggcctttctgttatccgaaatccactgaaagcacagcggctggctgaggagataaataataaacgaggggctgtatgcacaaagcatcttctgttgagttaagaacgagtatcgagatggcacatagccttgctcaaattggaatcaggtttgtgccaataccagtag'.upper()"
   ]
  },
  {
   "cell_type": "code",
   "execution_count": 15,
   "metadata": {},
   "outputs": [],
   "source": [
    "kg_syn = 'GTC' + 'T' + rc(sapi) + neg_rha + sapi + 'C' + 'GTCAG' + 'G' + rc(sapi) + 'AATCG' + sapi + 'T' + 'CAG'"
   ]
  },
  {
   "cell_type": "code",
   "execution_count": 16,
   "metadata": {},
   "outputs": [
    {
     "data": {
      "text/plain": [
       "'GTCTGAAGAGCCACCACAATTCAGCAAATTGTGAACATCATCACGTTCATCTTTCCCTGGTTGCCAATGGCCCATTTTCCTGTCAGTAACGAGAAGGTCGCGAATTCAGGCGCTTTTTAGACTGGTCGTAATGAAATTCAGCAGGATCACCATATGGCGTATTTTCTGGATTTTGACGAGCGGGCACTAAAGGAATGGCGAAAGCTGGGCTCGACGGTACGTGAACAGTTGAAAAAGAAGCTGGTTGAAGTACTTGAGTCACCCCGGATTGAAGCAAACAAGCTCCGTGGTATGCCTGATTGTTACAAGATTAAGCTCCGGTCTTCAGGCTATCGCCTTGTATACCAGGTTATAGACGAGAAAGTTGTCGTTTTCGTGATTTCTGTTGGGAAAAGAGAACGCTCGGAAGTATATAGCGAGGCGGTCAAACGCATTCTCTGAGGATCCGCGAATTCTCATGTTTGACAGCTTATCACTGATCAGTGAATTAATGGCGATGACGCATCCTCACGATAATATCCGGGTAGGCGCAATCACTTTCGTCTCTACTCCGTTACAAAGCGAGGCTGGGTATTTCCCGGCCTTTCTGTTATCCGAAATCCACTGAAAGCACAGCGGCTGGCTGAGGAGATAAATAATAAACGAGGGGCTGTATGCACAAAGCATCTTCTGTTGAGTTAAGAACGAGTATCGAGATGGCACATAGCCTTGCTCAAATTGGAATCAGGTTTGTGCCAATACCAGTAGGCTCTTCCGTCAGGGAAGAGCAATCGGCTCTTCTCAG'"
      ]
     },
     "execution_count": 16,
     "metadata": {},
     "output_type": "execute_result"
    }
   ],
   "source": [
    "kg_syn"
   ]
  },
  {
   "cell_type": "code",
   "execution_count": null,
   "metadata": {},
   "outputs": [],
   "source": []
  }
 ],
 "metadata": {
  "kernelspec": {
   "display_name": "Python 3",
   "language": "python",
   "name": "python3"
  },
  "language_info": {
   "codemirror_mode": {
    "name": "ipython",
    "version": 3
   },
   "file_extension": ".py",
   "mimetype": "text/x-python",
   "name": "python",
   "nbconvert_exporter": "python",
   "pygments_lexer": "ipython3",
   "version": "3.4.3"
  }
 },
 "nbformat": 4,
 "nbformat_minor": 2
}
